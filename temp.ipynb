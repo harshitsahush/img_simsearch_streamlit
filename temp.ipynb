{
 "cells": [
  {
   "cell_type": "markdown",
   "metadata": {},
   "source": [
    "Used this nb to create and download model for future use."
   ]
  },
  {
   "cell_type": "code",
   "execution_count": 6,
   "metadata": {},
   "outputs": [],
   "source": [
    "import tensorflow as tf\n",
    "\n",
    "\n",
    "conv_base = tf.keras.applications.MobileNetV2(\n",
    "    weights = 'imagenet',\n",
    "    include_top = False,\n",
    "    input_shape = (224, 224, 3)\n",
    ")\n",
    "\n",
    "conv_base.trainable = False\n",
    "\n",
    "#since this doesnt include Flattening layer, add\n",
    "\n",
    "model = tf.keras.Sequential([\n",
    "    conv_base, \n",
    "    tf.keras.layers.GlobalAveragePooling2D()\n",
    "])"
   ]
  },
  {
   "cell_type": "code",
   "execution_count": 8,
   "metadata": {},
   "outputs": [],
   "source": [
    "model.save(\"test.keras\")"
   ]
  },
  {
   "cell_type": "code",
   "execution_count": 4,
   "metadata": {},
   "outputs": [],
   "source": [
    "model = tf.keras.models.load_model(\"test.keras\")"
   ]
  },
  {
   "cell_type": "code",
   "execution_count": 7,
   "metadata": {},
   "outputs": [
    {
     "name": "stdout",
     "output_type": "stream",
     "text": [
      "Model: \"sequential_1\"\n",
      "_________________________________________________________________\n",
      " Layer (type)                Output Shape              Param #   \n",
      "=================================================================\n",
      " mobilenetv2_1.00_224 (Func  (None, 7, 7, 1280)        2257984   \n",
      " tional)                                                         \n",
      "                                                                 \n",
      " global_average_pooling2d_1  (None, 1280)              0         \n",
      "  (GlobalAveragePooling2D)                                       \n",
      "                                                                 \n",
      "=================================================================\n",
      "Total params: 2257984 (8.61 MB)\n",
      "Trainable params: 0 (0.00 Byte)\n",
      "Non-trainable params: 2257984 (8.61 MB)\n",
      "_________________________________________________________________\n"
     ]
    }
   ],
   "source": [
    "model.summary()"
   ]
  },
  {
   "cell_type": "code",
   "execution_count": 3,
   "metadata": {},
   "outputs": [
    {
     "name": "stdout",
     "output_type": "stream",
     "text": [
      "Python 3.10.14\n"
     ]
    }
   ],
   "source": [
    "!python --version"
   ]
  },
  {
   "cell_type": "code",
   "execution_count": 4,
   "metadata": {},
   "outputs": [
    {
     "name": "stdout",
     "output_type": "stream",
     "text": [
      "Package                                  Version\n",
      "---------------------------------------- -----------\n",
      "absl-py                                  2.1.0\n",
      "altair                                   5.3.0\n",
      "annotated-types                          0.7.0\n",
      "anyio                                    4.4.0\n",
      "asgiref                                  3.8.1\n",
      "asttokens                                2.4.1\n",
      "astunparse                               1.6.3\n",
      "attrs                                    23.2.0\n",
      "backoff                                  2.2.1\n",
      "bcrypt                                   4.1.3\n",
      "blinker                                  1.8.2\n",
      "build                                    1.2.1\n",
      "cachetools                               5.4.0\n",
      "certifi                                  2024.7.4\n",
      "charset-normalizer                       3.3.2\n",
      "chroma-hnswlib                           0.7.5\n",
      "chromadb                                 0.5.4\n",
      "click                                    8.1.7\n",
      "coloredlogs                              15.0.1\n",
      "comm                                     0.2.2\n",
      "debugpy                                  1.8.2\n",
      "decorator                                5.1.1\n",
      "Deprecated                               1.2.14\n",
      "dnspython                                2.6.1\n",
      "email_validator                          2.2.0\n",
      "exceptiongroup                           1.2.2\n",
      "executing                                2.0.1\n",
      "fastapi                                  0.111.1\n",
      "fastapi-cli                              0.0.4\n",
      "filelock                                 3.15.4\n",
      "flatbuffers                              24.3.25\n",
      "fsspec                                   2024.6.1\n",
      "gast                                     0.6.0\n",
      "gitdb                                    4.0.11\n",
      "GitPython                                3.1.43\n",
      "google-auth                              2.32.0\n",
      "google-pasta                             0.2.0\n",
      "googleapis-common-protos                 1.63.2\n",
      "grpcio                                   1.65.1\n",
      "h11                                      0.14.0\n",
      "h5py                                     3.11.0\n",
      "httpcore                                 1.0.5\n",
      "httptools                                0.6.1\n",
      "httpx                                    0.27.0\n",
      "huggingface-hub                          0.23.5\n",
      "humanfriendly                            10.0\n",
      "idna                                     3.7\n",
      "importlib_metadata                       7.1.0\n",
      "importlib_resources                      6.4.0\n",
      "ipykernel                                6.29.5\n",
      "ipython                                  8.26.0\n",
      "jedi                                     0.19.1\n",
      "Jinja2                                   3.1.4\n",
      "jsonschema                               4.23.0\n",
      "jsonschema-specifications                2023.12.1\n",
      "jupyter_client                           8.6.2\n",
      "jupyter_core                             5.7.2\n",
      "keras                                    3.4.1\n",
      "kubernetes                               30.1.0\n",
      "libclang                                 18.1.1\n",
      "Markdown                                 3.6\n",
      "markdown-it-py                           3.0.0\n",
      "MarkupSafe                               2.1.5\n",
      "matplotlib-inline                        0.1.7\n",
      "mdurl                                    0.1.2\n",
      "ml-dtypes                                0.4.0\n",
      "mmh3                                     4.1.0\n",
      "monotonic                                1.6\n",
      "mpmath                                   1.3.0\n",
      "namex                                    0.0.8\n",
      "nest-asyncio                             1.6.0\n",
      "numpy                                    1.26.4\n",
      "oauthlib                                 3.2.2\n",
      "onnxruntime                              1.18.1\n",
      "opencv-python                            4.10.0.84\n",
      "opentelemetry-api                        1.25.0\n",
      "opentelemetry-exporter-otlp-proto-common 1.25.0\n",
      "opentelemetry-exporter-otlp-proto-grpc   1.25.0\n",
      "opentelemetry-instrumentation            0.46b0\n",
      "opentelemetry-instrumentation-asgi       0.46b0\n",
      "opentelemetry-instrumentation-fastapi    0.46b0\n",
      "opentelemetry-proto                      1.25.0\n",
      "opentelemetry-sdk                        1.25.0\n",
      "opentelemetry-semantic-conventions       0.46b0\n",
      "opentelemetry-util-http                  0.46b0\n",
      "opt-einsum                               3.3.0\n",
      "optree                                   0.12.1\n",
      "orjson                                   3.10.6\n",
      "overrides                                7.7.0\n",
      "packaging                                24.1\n",
      "pandas                                   2.2.2\n",
      "parso                                    0.8.4\n",
      "pexpect                                  4.9.0\n",
      "pillow                                   10.4.0\n",
      "pip                                      24.1\n",
      "platformdirs                             4.2.2\n",
      "posthog                                  3.5.0\n",
      "prompt_toolkit                           3.0.47\n",
      "protobuf                                 4.25.3\n",
      "psutil                                   6.0.0\n",
      "ptyprocess                               0.7.0\n",
      "pure-eval                                0.2.2\n",
      "pyarrow                                  17.0.0\n",
      "pyasn1                                   0.6.0\n",
      "pyasn1_modules                           0.4.0\n",
      "pydantic                                 2.8.2\n",
      "pydantic_core                            2.20.1\n",
      "pydeck                                   0.9.1\n",
      "Pygments                                 2.18.0\n",
      "PyPika                                   0.48.9\n",
      "pyproject_hooks                          1.1.0\n",
      "python-dateutil                          2.9.0.post0\n",
      "python-dotenv                            1.0.1\n",
      "python-multipart                         0.0.9\n",
      "pytz                                     2024.1\n",
      "PyYAML                                   6.0.1\n",
      "pyzmq                                    26.0.3\n",
      "referencing                              0.35.1\n",
      "requests                                 2.32.3\n",
      "requests-oauthlib                        2.0.0\n",
      "rich                                     13.7.1\n",
      "rpds-py                                  0.19.0\n",
      "rsa                                      4.9\n",
      "setuptools                               70.1.1\n",
      "shellingham                              1.5.4\n",
      "six                                      1.16.0\n",
      "smmap                                    5.0.1\n",
      "sniffio                                  1.3.1\n",
      "stack-data                               0.6.3\n",
      "starlette                                0.37.2\n",
      "streamlit                                1.36.0\n",
      "sympy                                    1.13.0\n",
      "tenacity                                 8.5.0\n",
      "tensorboard                              2.17.0\n",
      "tensorboard-data-server                  0.7.2\n",
      "tensorflow                               2.17.0\n",
      "tensorflow-io-gcs-filesystem             0.37.1\n",
      "termcolor                                2.4.0\n",
      "tokenizers                               0.19.1\n",
      "toml                                     0.10.2\n",
      "tomli                                    2.0.1\n",
      "toolz                                    0.12.1\n",
      "tornado                                  6.4.1\n",
      "tqdm                                     4.66.4\n",
      "traitlets                                5.14.3\n",
      "typer                                    0.12.3\n",
      "typing_extensions                        4.12.2\n",
      "tzdata                                   2024.1\n",
      "urllib3                                  2.2.2\n",
      "uvicorn                                  0.30.1\n",
      "uvloop                                   0.19.0\n",
      "watchdog                                 4.0.1\n",
      "watchfiles                               0.22.0\n",
      "wcwidth                                  0.2.13\n",
      "websocket-client                         1.8.0\n",
      "websockets                               12.0\n",
      "Werkzeug                                 3.0.3\n",
      "wheel                                    0.43.0\n",
      "wrapt                                    1.16.0\n",
      "zipp                                     3.19.2\n"
     ]
    }
   ],
   "source": [
    "!pip list"
   ]
  },
  {
   "cell_type": "code",
   "execution_count": null,
   "metadata": {},
   "outputs": [],
   "source": []
  }
 ],
 "metadata": {
  "kernelspec": {
   "display_name": ".venv",
   "language": "python",
   "name": "python3"
  },
  "language_info": {
   "codemirror_mode": {
    "name": "ipython",
    "version": 3
   },
   "file_extension": ".py",
   "mimetype": "text/x-python",
   "name": "python",
   "nbconvert_exporter": "python",
   "pygments_lexer": "ipython3",
   "version": "3.10.14"
  }
 },
 "nbformat": 4,
 "nbformat_minor": 2
}
